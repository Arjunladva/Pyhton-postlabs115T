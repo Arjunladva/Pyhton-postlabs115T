{
 "cells": [
  {
   "cell_type": "code",
   "execution_count": 1,
   "id": "bc2fe302",
   "metadata": {},
   "outputs": [
    {
     "name": "stdout",
     "output_type": "stream",
     "text": [
      "Z-transform of x[n] = a^n u[n]:\n",
      "⎧     1            │a│    \n",
      "⎪  ───────     for │─│ < 1\n",
      "⎪    a             │z│    \n",
      "⎪  - ─ + 1                \n",
      "⎪    z                    \n",
      "⎪                         \n",
      "⎪  ∞                      \n",
      "⎨ ___                     \n",
      "⎪ ╲                       \n",
      "⎪  ╲    n  -n             \n",
      "⎪  ╱   a ⋅z     otherwise \n",
      "⎪ ╱                       \n",
      "⎪ ‾‾‾                     \n",
      "⎪n = 0                    \n",
      "⎩                         \n"
     ]
    }
   ],
   "source": [
    "import sympy as sp\n",
    "# Define symbols\n",
    "n, z, a = sp.symbols('n z a')\n",
    "# Define the signal x[n] = a^n * u[n]\n",
    "x_n = a**n\n",
    "# Compute the Z-transform\n",
    "X_z = sp.summation(x_n * z**(-n), (n, 0, sp.oo))\n",
    "# Print the result\n",
    "print(\"Z-transform of x[n] = a^n u[n]:\")\n",
    "sp.pprint(X_z, use_unicode=True)"
   ]
  },
  {
   "cell_type": "code",
   "execution_count": 2,
   "id": "968a56b9",
   "metadata": {},
   "outputs": [
    {
     "name": "stdout",
     "output_type": "stream",
     "text": [
      "Z-transform of x[n] = a^n u[n]:\n",
      "⎧     1             1       \n",
      "⎪   ─────      for ─── < 1/2\n",
      "⎪       2          │z│      \n",
      "⎪   1 - ─                   \n",
      "⎪       z                   \n",
      "⎪                           \n",
      "⎪  ∞                        \n",
      "⎨ ___                       \n",
      "⎪ ╲                         \n",
      "⎪  ╲    n  -n               \n",
      "⎪  ╱   2 ⋅z      otherwise  \n",
      "⎪ ╱                         \n",
      "⎪ ‾‾‾                       \n",
      "⎪n = 0                      \n",
      "⎩                           \n"
     ]
    }
   ],
   "source": [
    "import sympy as sp\n",
    "# Define symbols\n",
    "n, z, a = sp.symbols('n z a')\n",
    "# Define the signal x[n] = a^n * u[n]\n",
    "x_n = 2**n\n",
    "# Compute the Z-transform\n",
    "X_z = sp.summation(x_n * z**(-n), (n, 0, sp.oo))\n",
    "# Print the result\n",
    "print(\"Z-transform of x[n] = a^n u[n]:\")\n",
    "sp.pprint(X_z, use_unicode=True)"
   ]
  },
  {
   "cell_type": "code",
   "execution_count": 3,
   "id": "9735e186",
   "metadata": {},
   "outputs": [
    {
     "name": "stdout",
     "output_type": "stream",
     "text": [
      "Z-transform of the unit step signal u[n]:\n",
      "⎧    1           1     \n",
      "⎪  ─────    for ─── < 1\n",
      "⎪      1        │z│    \n",
      "⎪  1 - ─               \n",
      "⎪      z               \n",
      "⎪                      \n",
      "⎪  ∞                   \n",
      "⎨ ___                  \n",
      "⎪ ╲                    \n",
      "⎪  ╲    -n             \n",
      "⎪  ╱   z     otherwise \n",
      "⎪ ╱                    \n",
      "⎪ ‾‾‾                  \n",
      "⎪n = 0                 \n",
      "⎩                      \n"
     ]
    }
   ],
   "source": [
    "import sympy as sp\n",
    "# Define symbols\n",
    "n, z = sp.symbols('n z')\n",
    "# Define the unit step signal u[n]\n",
    "u_n = 1\n",
    "# Compute the Z-transform\n",
    "U_z = sp.summation(u_n * z**(-n), (n, 0, sp.oo))\n",
    "# Print the result\n",
    "print(\"Z-transform of the unit step signal u[n]:\")\n",
    "sp.pprint(U_z, use_unicode=True)"
   ]
  },
  {
   "cell_type": "code",
   "execution_count": 4,
   "id": "73e4b757",
   "metadata": {},
   "outputs": [
    {
     "name": "stdout",
     "output_type": "stream",
     "text": [
      "Z-transform of x[n] = exp(alpha * n) u[n]:\n",
      "  ∞           \n",
      " ___          \n",
      " ╲            \n",
      "  ╲    -n  α⋅n\n",
      "  ╱   z  ⋅ℯ   \n",
      " ╱            \n",
      " ‾‾‾          \n",
      "n = 0         \n"
     ]
    }
   ],
   "source": [
    "import sympy as sp\n",
    "# Define symbols\n",
    "n, z, alpha = sp.symbols('n z alpha')\n",
    "# Define the signal x[n] = exp(alpha * n) * u[n]\n",
    "x_n = sp.exp(alpha * n)\n",
    "# Compute the Z-transform\n",
    "X_z = sp.summation(x_n * z**(-n), (n, 0, sp.oo))\n",
    "# Print the result\n",
    "print(\"Z-transform of x[n] = exp(alpha * n) u[n]:\")\n",
    "sp.pprint(X_z, use_unicode=True)"
   ]
  },
  {
   "cell_type": "code",
   "execution_count": 5,
   "id": "d6dc7169",
   "metadata": {},
   "outputs": [
    {
     "name": "stdout",
     "output_type": "stream",
     "text": [
      "Z-transform of the finite sequence {1, 2, 3}:\n",
      "    2   3 \n",
      "1 + ─ + ──\n",
      "    z    2\n",
      "        z \n"
     ]
    }
   ],
   "source": [
    "import sympy as sp\n",
    "# Define symbols\n",
    "n, z = sp.symbols('n z')\n",
    "# Define the finite sequence x[n] = {1, 2, 3}\n",
    "x_n = [1, 2, 3]\n",
    "# Compute the Z-transform manually\n",
    "X_z = sum(x_n[i] * z**(-i) for i in range(len(x_n)))\n",
    "# Print the result\n",
    "print(\"Z-transform of the finite sequence {1, 2, 3}:\")\n",
    "sp.pprint(X_z, use_unicode=True)"
   ]
  },
  {
   "cell_type": "code",
   "execution_count": 6,
   "id": "7e7577d6",
   "metadata": {},
   "outputs": [
    {
     "name": "stdout",
     "output_type": "stream",
     "text": [
      "Z-transform of x[n] = sin(omega * n) u[n]:\n",
      "  ∞               \n",
      " ___              \n",
      " ╲                \n",
      "  ╲    -n         \n",
      "  ╱   z  ⋅sin(n⋅ω)\n",
      " ╱                \n",
      " ‾‾‾              \n",
      "n = 0             \n"
     ]
    }
   ],
   "source": [
    "import sympy as sp\n",
    "# Define symbols\n",
    "n, z, omega = sp.symbols('n z omega')\n",
    "# Define the sinusoidal sequence x[n] = sin(omega * n) * u[n]\n",
    "x_n = sp.sin(omega * n)\n",
    "# Compute the Z-transform\n",
    "X_z = sp.summation(x_n * z**(-n), (n, 0, sp.oo))\n",
    "# Print the result\n",
    "print(\"Z-transform of x[n] = sin(omega * n) u[n]:\")\n",
    "sp.pprint(X_z, use_unicode=True)"
   ]
  }
 ],
 "metadata": {
  "kernelspec": {
   "display_name": "Python 3",
   "language": "python",
   "name": "python3"
  },
  "language_info": {
   "codemirror_mode": {
    "name": "ipython",
    "version": 3
   },
   "file_extension": ".py",
   "mimetype": "text/x-python",
   "name": "python",
   "nbconvert_exporter": "python",
   "pygments_lexer": "ipython3",
   "version": "3.13.1"
  }
 },
 "nbformat": 4,
 "nbformat_minor": 5
}
